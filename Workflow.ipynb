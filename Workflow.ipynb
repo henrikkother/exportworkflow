{
  "cells": [
    {
      "cell_type": "markdown",
      "metadata": {
        "id": "OEo726hQb_ij"
      },
      "source": [
        "# Setup\n"
      ]
    },
    {
      "cell_type": "code",
      "execution_count": 1,
      "metadata": {
        "colab": {
          "base_uri": "https://localhost:8080/"
        },
        "id": "V3aXlWq5bs3d",
        "outputId": "61d6c68e-ff9c-41cc-a49a-7d42f4c345bc"
      },
      "outputs": [],
      "source": [
        "import ee\n",
        "import urllib.request\n",
        "from shapely.geometry import shape, Point\n",
        "import pandas as pd\n",
        "import json\n",
        "import math"
      ]
    },
    {
      "cell_type": "code",
      "execution_count": 2,
      "metadata": {},
      "outputs": [],
      "source": [
        "#ee.Authenticate()\n",
        "ee.Initialize()"
      ]
    },
    {
      "cell_type": "markdown",
      "metadata": {
        "id": "bcVQSDPeCMGQ"
      },
      "source": [
        "# Get geojson border data"
      ]
    },
    {
      "cell_type": "code",
      "execution_count": null,
      "metadata": {
        "colab": {
          "base_uri": "https://localhost:8080/"
        },
        "id": "_dNuOxiVDxTi",
        "outputId": "e6dee285-543c-4dca-b757-6399876c9d93"
      },
      "outputs": [],
      "source": [
        "target_country = \"\"\n",
        "coordinates_target_country = None\n",
        "\n",
        "# read json file with counties\n",
        "with open(\"countries.geojson\", encoding='utf-8') as f:\n",
        "    countries_geojson = json.load(f)\n",
        "\n",
        "for feature in countries_geojson['features']:\n",
        "    if feature['properties']['ADMIN']==target_country:\n",
        "        coordinates_target_country = feature[\"geometry\"]\n",
        "        print(coordinates_target_country)\n"
      ]
    },
    {
      "cell_type": "code",
      "execution_count": null,
      "metadata": {},
      "outputs": [],
      "source": [
        "# Variety of Configuations\n",
        "vis_min = 0  #Visualization settings for the thumbnail\n",
        "vis_max = 1024 #Visualization settings for the thumbnail\n",
        "vis_bands = ['B4', 'B3', 'B2'] #Includes the bands for RGB\n",
        "imageDimensions = '1024x1024' #Set thumbnail image size (can't be too big, or you run into problems)\n",
        "nir_bands = ['B8'] #Includes the bands for nir\n",
        "swirB11_bands = ['B11']\n",
        "swirB12_bands = ['B12']\n",
        "tif_size = 1024\n",
        "image_creation_time_start = '2015-07-01'\n",
        "image_creation_time_end = '2016-07-01'\n",
        "r_earth = 6371000\n",
        "# 10x10 meter per pixel\n",
        "sentinel_resolution = 10\n",
        "\n",
        "# construct polygon from coordinates to shaply object\n",
        "polygon = shape(coordinates_target_country)\n",
        "# get bounds of polygon\n",
        "minx, miny, maxx, maxy = polygon.bounds\n",
        "\n",
        "# start point bottom left:\n",
        "x,y = minx,miny\n",
        "id=0\n",
        "# iterate over all columns:\n",
        "while y < maxy:\n",
        "  while x < maxx:\n",
        "    west,south = x,y\n",
        "    east = x + (tif_size*sentinel_resolution / r_earth) * (180 / math.pi) / math.cos(y * math.pi/180)\n",
        "    north = y  + (tif_size*sentinel_resolution / r_earth) * (180 / math.pi)\n",
        "    # if one of the edges of the box is in the polygon, export the image\n",
        "    if polygon.contains(Point(west, south)) or polygon.contains(Point(east, north)):\n",
        "      print(f\"{x} - {y}\")\n",
        "      # request geotif\n",
        "      box = ee.Geometry.BBox(west,south,east,north)\n",
        "      # Import Sentinel dataset\n",
        "      # either COPERNICUS/S2_SR or COPERNICUS/S2\n",
        "      s2 = (ee.ImageCollection(\"COPERNICUS/S2_SR\")\n",
        "        .filterBounds(box)\n",
        "        .sort('CLOUDY_PIXEL_PERCENTAGE')\n",
        "        .filterDate(image_creation_time_start, image_creation_time_end)\n",
        "        .filter(ee.Filter.contains('.geo', box))\n",
        "        .first()\n",
        "      )\n",
        "      \n",
        "      s2Vis = {\n",
        "        'region': box,\n",
        "        'crs': (s2.select('B4').projection()),\n",
        "        'dimensions': imageDimensions,\n",
        "        'format': 'jpg',\n",
        "        'bands': vis_bands,\n",
        "        'gamma': 1.4,\n",
        "        'min': 0,\n",
        "        'max': 10000\n",
        "      }\n",
        "      try:\n",
        "        s2_url = (s2.getThumbURL(s2Vis))\n",
        "        print(s2_url)\n",
        "        #Change the location where the images are saved by replacing \"content\" with the location in your Google Drive\n",
        "        s2_name = \"{}/preview/S2_{}_{}_{}.jpg\".format(\"country_export\", id,x, y)\n",
        "        s2_tif_name = \"S2_{}_{}_{}\".format(id,x, y)\n",
        "        id = id + 1\n",
        "        urllib.request.urlretrieve(s2_url, s2_name)\n",
        "        print(s2_tif_name)\n",
        "        task = ee.batch.Export.image.toDrive(\n",
        "          image = s2.select('B2','B3','B4','B8','B11','B12'),\n",
        "          description=s2_tif_name,\n",
        "          folder='country_export',\n",
        "          region=box,\n",
        "          dimensions=imageDimensions,\n",
        "          crs=(s2.select('B4').projection())\n",
        "        )\n",
        "        task.start()\n",
        "      except:\n",
        "        print(\"No data found! Skipping...\")\n",
        "      \n",
        "    # increase x (long)\n",
        "    x = x + (tif_size*sentinel_resolution / r_earth) * (180 / math.pi) / math.cos(y * math.pi/180)\n",
        "  # reset x\n",
        "  x = minx\n",
        "  # increase y (lat)\n",
        "  y  = y  + (tif_size*sentinel_resolution / r_earth) * (180 / math.pi)\n"
      ]
    }
  ],
  "metadata": {
    "colab": {
      "provenance": []
    },
    "kernelspec": {
      "display_name": "Python 3",
      "name": "python3"
    },
    "language_info": {
      "codemirror_mode": {
        "name": "ipython",
        "version": 3
      },
      "file_extension": ".py",
      "mimetype": "text/x-python",
      "name": "python",
      "nbconvert_exporter": "python",
      "pygments_lexer": "ipython3",
      "version": "3.10.13"
    }
  },
  "nbformat": 4,
  "nbformat_minor": 0
}
